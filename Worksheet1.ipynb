{
  "nbformat": 4,
  "nbformat_minor": 0,
  "metadata": {
    "colab": {
      "provenance": []
    },
    "kernelspec": {
      "name": "python3",
      "display_name": "Python 3"
    },
    "language_info": {
      "name": "python"
    }
  },
  "cells": [
    {
      "cell_type": "code",
      "execution_count": 1,
      "metadata": {
        "id": "61yoLkhFgSmZ"
      },
      "outputs": [],
      "source": [
        "import numpy as np"
      ]
    },
    {
      "cell_type": "code",
      "source": [
        "import numpy as np\n",
        "\n",
        "a = np.array([1,2,3,4])\n",
        "b = np.array([[1,2,3,4]])\n",
        "c = np.array([[1,2,3,4],[5,6,7,8]])\n",
        "a.shape\n",
        "c.shape"
      ],
      "metadata": {
        "colab": {
          "base_uri": "https://localhost:8080/"
        },
        "id": "pXkPOx0ygYIO",
        "outputId": "6ae98317-ddde-4910-df33-fd41c32fa57c"
      },
      "execution_count": 13,
      "outputs": [
        {
          "output_type": "execute_result",
          "data": {
            "text/plain": [
              "(2, 4)"
            ]
          },
          "metadata": {},
          "execution_count": 13
        }
      ]
    },
    {
      "cell_type": "code",
      "source": [
        "a = np.array([[1,2,3,4],[2,3,4,5]])\n",
        "a"
      ],
      "metadata": {
        "colab": {
          "base_uri": "https://localhost:8080/"
        },
        "id": "yZI0Ifa5gbv9",
        "outputId": "bbe69d0c-ab83-46c2-d8d0-dd58cbb0635f"
      },
      "execution_count": 14,
      "outputs": [
        {
          "output_type": "execute_result",
          "data": {
            "text/plain": [
              "array([[1, 2, 3, 4],\n",
              "       [2, 3, 4, 5]])"
            ]
          },
          "metadata": {},
          "execution_count": 14
        }
      ]
    },
    {
      "cell_type": "code",
      "source": [
        "b = np.array([[4,5,6,7],[6,8,4,5]])\n",
        "b"
      ],
      "metadata": {
        "colab": {
          "base_uri": "https://localhost:8080/"
        },
        "id": "dMZFYiFvgbyt",
        "outputId": "b2af4fb4-e37e-4db9-d53b-84adf897dc0e"
      },
      "execution_count": 15,
      "outputs": [
        {
          "output_type": "execute_result",
          "data": {
            "text/plain": [
              "array([[4, 5, 6, 7],\n",
              "       [6, 8, 4, 5]])"
            ]
          },
          "metadata": {},
          "execution_count": 15
        }
      ]
    },
    {
      "cell_type": "code",
      "source": [
        "c = np.concatenate((a,b))\n",
        "c"
      ],
      "metadata": {
        "colab": {
          "base_uri": "https://localhost:8080/"
        },
        "id": "BDxLCv4Rgb4t",
        "outputId": "cad2dce6-4e13-460f-afc0-db19d9130984"
      },
      "execution_count": 17,
      "outputs": [
        {
          "output_type": "execute_result",
          "data": {
            "text/plain": [
              "array([[1, 2, 3, 4],\n",
              "       [2, 3, 4, 5],\n",
              "       [4, 5, 6, 7],\n",
              "       [6, 8, 4, 5]])"
            ]
          },
          "metadata": {},
          "execution_count": 17
        }
      ]
    },
    {
      "cell_type": "code",
      "source": [
        "d = np.stack((a,b) , axis =1)\n",
        "d"
      ],
      "metadata": {
        "colab": {
          "base_uri": "https://localhost:8080/"
        },
        "id": "6R9fZ4IYgb7N",
        "outputId": "a0d6451c-d38c-448d-81f4-b97c439e78a5"
      },
      "execution_count": 18,
      "outputs": [
        {
          "output_type": "execute_result",
          "data": {
            "text/plain": [
              "array([[[1, 2, 3, 4],\n",
              "        [4, 5, 6, 7]],\n",
              "\n",
              "       [[2, 3, 4, 5],\n",
              "        [6, 8, 4, 5]]])"
            ]
          },
          "metadata": {},
          "execution_count": 18
        }
      ]
    },
    {
      "cell_type": "code",
      "source": [
        "e = np.vstack((a,b))\n",
        "e"
      ],
      "metadata": {
        "colab": {
          "base_uri": "https://localhost:8080/"
        },
        "id": "QxGCkFMwgcAN",
        "outputId": "c1c064e1-8d27-4996-b832-42bc58ef6024"
      },
      "execution_count": 19,
      "outputs": [
        {
          "output_type": "execute_result",
          "data": {
            "text/plain": [
              "array([[1, 2, 3, 4],\n",
              "       [2, 3, 4, 5],\n",
              "       [4, 5, 6, 7],\n",
              "       [6, 8, 4, 5]])"
            ]
          },
          "metadata": {},
          "execution_count": 19
        }
      ]
    },
    {
      "cell_type": "code",
      "source": [
        "#1\n",
        "import numpy as np\n",
        "# Create and display zero, one, and n-dimensional arrays\n",
        "zero_dim_array = np.array(5)\n",
        "one_dim_array = np.array([1, 2, 3])\n",
        "n_dim_array = np.array([[1, 2], [3, 4]])\n",
        "for arr in [zero_dim_array, one_dim_array, n_dim_array]:\n",
        "  print(f\"Array:\\n{arr}\\nDimension: {arr.ndim}\\nData type: {arr.dtype}\\n\")\n"
      ],
      "metadata": {
        "colab": {
          "base_uri": "https://localhost:8080/"
        },
        "id": "vYJatEcygcDP",
        "outputId": "3a01182b-f5f7-4d11-8432-2a12ef5dc0a1"
      },
      "execution_count": 20,
      "outputs": [
        {
          "output_type": "stream",
          "name": "stdout",
          "text": [
            "Array:\n",
            "5\n",
            "Dimension: 0\n",
            "Data type: int64\n",
            "\n",
            "Array:\n",
            "[1 2 3]\n",
            "Dimension: 1\n",
            "Data type: int64\n",
            "\n",
            "Array:\n",
            "[[1 2]\n",
            " [3 4]]\n",
            "Dimension: 2\n",
            "Data type: int64\n",
            "\n"
          ]
        }
      ]
    },
    {
      "cell_type": "code",
      "source": [
        "#1\n",
        "# prompt: Initialize an empty array with size 2X2.\n",
        "\n",
        "import numpy as np\n",
        "\n",
        "empty_array = np.empty((2, 2))\n",
        "empty_array"
      ],
      "metadata": {
        "colab": {
          "base_uri": "https://localhost:8080/"
        },
        "id": "OoG0zabugcF1",
        "outputId": "74607a87-468c-4e97-9967-a7ce618718c3"
      },
      "execution_count": 21,
      "outputs": [
        {
          "output_type": "execute_result",
          "data": {
            "text/plain": [
              "array([[4.9e-324, 9.9e-324],\n",
              "       [1.5e-323, 2.0e-323]])"
            ]
          },
          "metadata": {},
          "execution_count": 21
        }
      ]
    },
    {
      "cell_type": "code",
      "source": [
        "#2\n",
        "#Initialize an all one array with size 4X2.\n",
        "\n",
        "import numpy as np\n",
        "\n",
        "one_array = np.ones((4, 2))\n",
        "one_array"
      ],
      "metadata": {
        "colab": {
          "base_uri": "https://localhost:8080/"
        },
        "id": "ZmHW3H_ygcIC",
        "outputId": "1ef6d37e-2f93-4ebb-f97b-45e799f1b582"
      },
      "execution_count": 22,
      "outputs": [
        {
          "output_type": "execute_result",
          "data": {
            "text/plain": [
              "array([[1., 1.],\n",
              "       [1., 1.],\n",
              "       [1., 1.],\n",
              "       [1., 1.]])"
            ]
          },
          "metadata": {},
          "execution_count": 22
        }
      ]
    },
    {
      "cell_type": "code",
      "source": [
        "#3\n",
        "#Return a new array of given shape and type, filled with fill value.{Hint: np.full}\n",
        "full_array = np.full((3, 3), 5)\n",
        "full_array"
      ],
      "metadata": {
        "colab": {
          "base_uri": "https://localhost:8080/"
        },
        "id": "vpHWkRUSgcKo",
        "outputId": "23eb12af-4c29-4ed0-ea36-0e722fb0c2eb"
      },
      "execution_count": 23,
      "outputs": [
        {
          "output_type": "execute_result",
          "data": {
            "text/plain": [
              "array([[5, 5, 5],\n",
              "       [5, 5, 5],\n",
              "       [5, 5, 5]])"
            ]
          },
          "metadata": {},
          "execution_count": 23
        }
      ]
    },
    {
      "cell_type": "code",
      "source": [
        "#4\n",
        "# prompt: Return a new array of zeros with same shape and type as a given array.{Hint:\n",
        "\n",
        "import numpy as np\n",
        "original_array = np.array([[1, 2, 3], [4, 5, 6]])\n",
        "\n",
        "zeros_array = np.zeros_like(original_array)\n",
        "\n",
        "zeros_array"
      ],
      "metadata": {
        "colab": {
          "base_uri": "https://localhost:8080/"
        },
        "id": "PSUZHJ8ZgcNO",
        "outputId": "5355d83d-3716-4143-cf92-fef9d85881e1"
      },
      "execution_count": 24,
      "outputs": [
        {
          "output_type": "execute_result",
          "data": {
            "text/plain": [
              "array([[0, 0, 0],\n",
              "       [0, 0, 0]])"
            ]
          },
          "metadata": {},
          "execution_count": 24
        }
      ]
    },
    {
      "cell_type": "code",
      "source": [
        "#5\n",
        "# prompt: Return a new array of ones with same shape and type as a given array.{Hint:\n",
        "\n",
        "import numpy as np\n",
        "original_array = np.array([[1, 2, 3], [4, 5, 6]])\n",
        "\n",
        "ones_array = np.ones_like(original_array)\n",
        "\n",
        "ones_array"
      ],
      "metadata": {
        "colab": {
          "base_uri": "https://localhost:8080/"
        },
        "id": "uSwsMUoKgcP9",
        "outputId": "d8e9f989-5e9b-4bcd-f19f-6e6582f289a1"
      },
      "execution_count": 25,
      "outputs": [
        {
          "output_type": "execute_result",
          "data": {
            "text/plain": [
              "array([[1, 1, 1],\n",
              "       [1, 1, 1]])"
            ]
          },
          "metadata": {},
          "execution_count": 25
        }
      ]
    },
    {
      "cell_type": "code",
      "source": [
        "#6\n",
        "# For an existing list new_list = [1,2,3,4] convert to an numpy array.{Hint: np.array()}\n",
        "\n",
        "new_list = [1,2,3,4]\n",
        "numpy_array = np.array(new_list)\n",
        "numpy_array\n"
      ],
      "metadata": {
        "colab": {
          "base_uri": "https://localhost:8080/"
        },
        "id": "hgrOAVtMgcSO",
        "outputId": "434dcdee-392e-43ce-dc53-755755ca7c2c"
      },
      "execution_count": 26,
      "outputs": [
        {
          "output_type": "execute_result",
          "data": {
            "text/plain": [
              "array([1, 2, 3, 4])"
            ]
          },
          "metadata": {},
          "execution_count": 26
        }
      ]
    },
    {
      "cell_type": "code",
      "source": [
        "#1\n",
        "# Create an array with values ranging from 10 to 49. {Hint:np.arrange()}.\n",
        "import numpy as np\n",
        "array = np.arange(10,50)\n",
        "array\n",
        "\n"
      ],
      "metadata": {
        "colab": {
          "base_uri": "https://localhost:8080/"
        },
        "id": "4OKHReOMgcUu",
        "outputId": "707ae692-d4ca-40b4-af06-662a07e02218"
      },
      "execution_count": 27,
      "outputs": [
        {
          "output_type": "execute_result",
          "data": {
            "text/plain": [
              "array([10, 11, 12, 13, 14, 15, 16, 17, 18, 19, 20, 21, 22, 23, 24, 25, 26,\n",
              "       27, 28, 29, 30, 31, 32, 33, 34, 35, 36, 37, 38, 39, 40, 41, 42, 43,\n",
              "       44, 45, 46, 47, 48, 49])"
            ]
          },
          "metadata": {},
          "execution_count": 27
        }
      ]
    },
    {
      "cell_type": "code",
      "source": [
        "#2\n",
        "# Create a 3X3 matrix with values ranging from 0 to 8.\n",
        "# {Hint:look for np.reshape()}\n",
        "\n",
        "array = np.arange(9).reshape(3,3)\n",
        "array\n"
      ],
      "metadata": {
        "colab": {
          "base_uri": "https://localhost:8080/"
        },
        "id": "TL70eia2gcXN",
        "outputId": "adb3c7ea-9564-4196-f5e2-1e18b2a38575"
      },
      "execution_count": 28,
      "outputs": [
        {
          "output_type": "execute_result",
          "data": {
            "text/plain": [
              "array([[0, 1, 2],\n",
              "       [3, 4, 5],\n",
              "       [6, 7, 8]])"
            ]
          },
          "metadata": {},
          "execution_count": 28
        }
      ]
    },
    {
      "cell_type": "code",
      "source": [
        "#3\n",
        "# Create a 3X3 identity matrix.{Hint:np.eye()}\n",
        "\n",
        "array = np.eye(3,3)\n",
        "array\n"
      ],
      "metadata": {
        "colab": {
          "base_uri": "https://localhost:8080/"
        },
        "id": "DnQlAfu8gcZv",
        "outputId": "cf21bb88-87e8-4934-91de-b6f8ef89d745"
      },
      "execution_count": 29,
      "outputs": [
        {
          "output_type": "execute_result",
          "data": {
            "text/plain": [
              "array([[1., 0., 0.],\n",
              "       [0., 1., 0.],\n",
              "       [0., 0., 1.]])"
            ]
          },
          "metadata": {},
          "execution_count": 29
        }
      ]
    },
    {
      "cell_type": "code",
      "source": [
        "#4\n",
        "# Create a random array of size 30 and find the mean of the array.\n",
        "# {Hint:check for np.random.random() and array.mean() function}\n",
        "random_array = np.random.random(30)\n",
        "mean_array = np.mean(random_array)\n",
        "mean_array"
      ],
      "metadata": {
        "colab": {
          "base_uri": "https://localhost:8080/"
        },
        "id": "24rufqPogcb1",
        "outputId": "87b6143a-36be-4322-83d4-648d0a362b49"
      },
      "execution_count": 30,
      "outputs": [
        {
          "output_type": "execute_result",
          "data": {
            "text/plain": [
              "0.5203507750627975"
            ]
          },
          "metadata": {},
          "execution_count": 30
        }
      ]
    },
    {
      "cell_type": "code",
      "source": [
        "#5\n",
        "# Create a 10X10 array with random values and find the minimum and maximum values.\n",
        "random_array = np.random.rand(10, 10)\n",
        "\n",
        "min_array = np.min(random_array)\n",
        "max_array = np.max(random_array)\n",
        "print(f\"Minimum value: {min_array}\")\n",
        "print(f\"Maximum value: {max_array}\")"
      ],
      "metadata": {
        "colab": {
          "base_uri": "https://localhost:8080/"
        },
        "id": "DCHPfq3mhIEl",
        "outputId": "f483d511-bfa5-4704-d718-ad00e3291d48"
      },
      "execution_count": 31,
      "outputs": [
        {
          "output_type": "stream",
          "name": "stdout",
          "text": [
            "Minimum value: 0.01646825895083104\n",
            "Maximum value: 0.9807741389449179\n"
          ]
        }
      ]
    },
    {
      "cell_type": "code",
      "source": [
        "# 6\n",
        "# Create a zero array of size 10 and replace 5th element with 1.\n",
        "import numpy as np\n",
        "\n",
        "zero_array = np.zeros(10)\n",
        "zero_array[4] = 1  # Replace the 5th element (index 4) with 1\n",
        "\n",
        "zero_array"
      ],
      "metadata": {
        "colab": {
          "base_uri": "https://localhost:8080/"
        },
        "id": "Gucbgw4rhIH9",
        "outputId": "5db9f87b-d758-4939-e947-0dbdc478aa7c"
      },
      "execution_count": 32,
      "outputs": [
        {
          "output_type": "execute_result",
          "data": {
            "text/plain": [
              "array([0., 0., 0., 0., 1., 0., 0., 0., 0., 0.])"
            ]
          },
          "metadata": {},
          "execution_count": 32
        }
      ]
    },
    {
      "cell_type": "code",
      "source": [
        "#7\n",
        "# Reverse an array arr = [1,2,0,0,4,0]\n",
        "\n",
        "array = [1,2,0,0,4,0]\n",
        "array.reverse()\n",
        "array"
      ],
      "metadata": {
        "colab": {
          "base_uri": "https://localhost:8080/"
        },
        "id": "jo3cNk72hIM2",
        "outputId": "6c916637-6b3f-47cd-90a5-d4a4052cdd91"
      },
      "execution_count": 33,
      "outputs": [
        {
          "output_type": "execute_result",
          "data": {
            "text/plain": [
              "[0, 4, 0, 0, 2, 1]"
            ]
          },
          "metadata": {},
          "execution_count": 33
        }
      ]
    },
    {
      "cell_type": "code",
      "source": [
        "#8\n",
        "# Create a 2d array with 1 on border and 0 inside.\n",
        "import numpy as np\n",
        "rows = 5\n",
        "cols = 4\n",
        "array = np.ones((rows, cols))\n",
        "array[1:-1, 1:-1] = 0\n",
        "\n",
        "print(array)"
      ],
      "metadata": {
        "colab": {
          "base_uri": "https://localhost:8080/"
        },
        "id": "a3urK2g8hIQH",
        "outputId": "71209438-7c6d-4877-de06-4a9ecd057ded"
      },
      "execution_count": 34,
      "outputs": [
        {
          "output_type": "stream",
          "name": "stdout",
          "text": [
            "[[1. 1. 1. 1.]\n",
            " [1. 0. 0. 1.]\n",
            " [1. 0. 0. 1.]\n",
            " [1. 0. 0. 1.]\n",
            " [1. 1. 1. 1.]]\n"
          ]
        }
      ]
    },
    {
      "cell_type": "code",
      "source": [
        "#9\n",
        "# Create a 8X8 matrix and fill it with a checkerboard pattern.\n",
        "import numpy as np\n",
        "\n",
        "checkerboard = np.zeros((8, 8), dtype=int)\n",
        "\n",
        "# Fill the matrix with a checkerboard pattern\n",
        "checkerboard[::2, ::2] = 1\n",
        "checkerboard[1::2, 1::2] = 1\n",
        "\n",
        "print(checkerboard) # To see the output, run the code."
      ],
      "metadata": {
        "colab": {
          "base_uri": "https://localhost:8080/"
        },
        "id": "waypeNhLhWjd",
        "outputId": "681812f2-5c5f-485a-ce17-3b160f234968"
      },
      "execution_count": 35,
      "outputs": [
        {
          "output_type": "stream",
          "name": "stdout",
          "text": [
            "[[1 0 1 0 1 0 1 0]\n",
            " [0 1 0 1 0 1 0 1]\n",
            " [1 0 1 0 1 0 1 0]\n",
            " [0 1 0 1 0 1 0 1]\n",
            " [1 0 1 0 1 0 1 0]\n",
            " [0 1 0 1 0 1 0 1]\n",
            " [1 0 1 0 1 0 1 0]\n",
            " [0 1 0 1 0 1 0 1]]\n"
          ]
        }
      ]
    },
    {
      "cell_type": "code",
      "source": [
        "x = np.array([[1,2],[3,5]])\n",
        "y = np.array([[5,6],[7,8]])\n",
        "v = np.array([9,10])\n",
        "w = np.array([11,12])"
      ],
      "metadata": {
        "id": "av7pjIG_hWmP"
      },
      "execution_count": 45,
      "outputs": []
    },
    {
      "cell_type": "code",
      "source": [
        "#1\n",
        "# Add two array\n",
        "\n",
        "x = np.array([[1,2],[3,5]]) ,\n",
        "y = np.array([[5,6],[7,8]]) ,\n",
        "add = np.add(x,y)\n",
        "add\n"
      ],
      "metadata": {
        "colab": {
          "base_uri": "https://localhost:8080/"
        },
        "id": "jrh_3fCBhWpF",
        "outputId": "b2a31f5d-db49-475c-88ab-01d757ebc17a"
      },
      "execution_count": 37,
      "outputs": [
        {
          "output_type": "execute_result",
          "data": {
            "text/plain": [
              "array([[[ 6,  8],\n",
              "        [10, 13]]])"
            ]
          },
          "metadata": {},
          "execution_count": 37
        }
      ]
    },
    {
      "cell_type": "code",
      "source": [
        "# 2\n",
        "# Substract two array\n",
        "v = np.array([9,10]) ,\n",
        "w = np.array([11,12])\n",
        "sub = np.subtract(v,w)\n",
        "sub\n"
      ],
      "metadata": {
        "colab": {
          "base_uri": "https://localhost:8080/"
        },
        "id": "4gVGECXQhWrt",
        "outputId": "a3d8a3bd-73e7-400a-8911-5c9590354e25"
      },
      "execution_count": 39,
      "outputs": [
        {
          "output_type": "execute_result",
          "data": {
            "text/plain": [
              "array([[-2, -2]])"
            ]
          },
          "metadata": {},
          "execution_count": 39
        }
      ]
    },
    {
      "cell_type": "code",
      "source": [
        "import numpy as np\n",
        "\n",
        "x = np.array([[1,2],[3,5]])\n",
        "y = np.array([[5,6],[7,8]])\n",
        "v = np.array([9,10])\n",
        "w = np.array([11,12])\n",
        "\n",
        "x_multiplied = x * 2\n",
        "y_multiplied = y * 2\n",
        "v_multiplied = v * 2\n",
        "w_multiplied = w * 2\n",
        "\n",
        "print(\"x multiplied by 2:\\n\", x_multiplied)\n",
        "print(\"y multiplied by 2:\\n\", y_multiplied)\n",
        "print(\"v multiplied by 2:\\n\", v_multiplied)\n",
        "print(\"w multiplied by 2:\\n\", w_multiplied)"
      ],
      "metadata": {
        "colab": {
          "base_uri": "https://localhost:8080/"
        },
        "id": "JxWXH08qhWuG",
        "outputId": "52f42ed4-b8a2-4763-caf7-c938d42252d3"
      },
      "execution_count": 40,
      "outputs": [
        {
          "output_type": "stream",
          "name": "stdout",
          "text": [
            "x multiplied by 2:\n",
            " [[ 2  4]\n",
            " [ 6 10]]\n",
            "y multiplied by 2:\n",
            " [[10 12]\n",
            " [14 16]]\n",
            "v multiplied by 2:\n",
            " [18 20]\n",
            "w multiplied by 2:\n",
            " [22 24]\n"
          ]
        }
      ]
    },
    {
      "cell_type": "code",
      "source": [
        "#4\n",
        "# Find the square of each element of the array.\n",
        "\n",
        "import numpy as np\n",
        "\n",
        "x_square = np.square(x),\n",
        "y_square = np.square(y),\n",
        "v_square = np.square(v),\n",
        "w_square = np.square(w),\n",
        "\n",
        "print(\"Square of x \" , x_square),\n",
        "print(\"Square of y \" , y_square),\n",
        "print(\"Square of v \" , v_square),\n",
        "print(\"Square of w \" , w_square)"
      ],
      "metadata": {
        "colab": {
          "base_uri": "https://localhost:8080/"
        },
        "id": "Ftyzu1lMhWwu",
        "outputId": "87cf50b3-0476-4252-eaf4-240a5f9bd08f"
      },
      "execution_count": 41,
      "outputs": [
        {
          "output_type": "stream",
          "name": "stdout",
          "text": [
            "Square of x  (array([[ 1,  4],\n",
            "       [ 9, 25]]),)\n",
            "Square of y  (array([[25, 36],\n",
            "       [49, 64]]),)\n",
            "Square of v  (array([ 81, 100]),)\n",
            "Square of w  (array([121, 144]),)\n"
          ]
        }
      ]
    },
    {
      "cell_type": "code",
      "source": [
        "#5\n",
        "# Find the dot product between: v(and)w ; x(and)v ; x(and)y.\n",
        "dot_v_w = np.dot(v, w),\n",
        "dot_x_v = np.dot(x, v),\n",
        "dot_x_y = np.dot(x,y),\n",
        "\n",
        "print(\"Dot product of v and w:\",dot_v_w),\n",
        "print(\"Dot product of x and v:\", dot_x_v),\n",
        "print(\"Dot product of x and y:\\n\", dot_x_y)"
      ],
      "metadata": {
        "colab": {
          "base_uri": "https://localhost:8080/"
        },
        "id": "Zxn4R6AahWzd",
        "outputId": "696ab563-8ec0-48cf-e467-20a22a1bd03f"
      },
      "execution_count": 42,
      "outputs": [
        {
          "output_type": "stream",
          "name": "stdout",
          "text": [
            "Dot product of v and w: (219,)\n",
            "Dot product of x and v: (array([29, 77]),)\n",
            "Dot product of x and y:\n",
            " (array([[19, 22],\n",
            "       [50, 58]]),)\n"
          ]
        }
      ]
    },
    {
      "cell_type": "code",
      "source": [
        "#6\n",
        "#  Concatenate x(and)y along row and Concatenate v(and)w along column.\n",
        "#  {Hint:try np.concatenate() or np.vstack() functions.\n",
        "\n",
        "concatenated_xy = np.concatenate((x, y), axis=0)\n",
        "concatenated_vw = np.vstack((v, w))\n",
        "print(\"Concatenated x and y along rows:\\n\", concatenated_xy)\n",
        "print(\"Concatenated v and w along columns:\\n\", concatenated_vw)"
      ],
      "metadata": {
        "colab": {
          "base_uri": "https://localhost:8080/"
        },
        "id": "YEHUzYW6hW4f",
        "outputId": "122964fb-0616-4cc3-ba82-7c5b31d2b292"
      },
      "execution_count": 43,
      "outputs": [
        {
          "output_type": "stream",
          "name": "stdout",
          "text": [
            "Concatenated x and y along rows:\n",
            " [[1 2]\n",
            " [3 5]\n",
            " [5 6]\n",
            " [7 8]]\n",
            "Concatenated v and w along columns:\n",
            " [[ 9 10]\n",
            " [11 12]]\n"
          ]
        }
      ]
    },
    {
      "cell_type": "code",
      "source": [
        "import time\n",
        "\n",
        "# Create two lists of size 1,000,000\n",
        "list1 = [i for i in range(1000000)]\n",
        "list2 = [i for i in range(1000000)]\n",
        "\n",
        "# Measure the time taken for element-wise addition\n",
        "start_time = time.time()\n",
        "result_list = [list1[i] + list2[i] for i in range(1000000)]\n",
        "end_time = time.time()\n",
        "\n",
        "print(\"Time taken for element-wise addition using Python lists:\", end_time - start_time, \"seconds\")"
      ],
      "metadata": {
        "colab": {
          "base_uri": "https://localhost:8080/"
        },
        "id": "FKSwNlBLhW_F",
        "outputId": "d8b1fe71-28ad-4ba1-bf0f-5a3c7d5424f5"
      },
      "execution_count": 9,
      "outputs": [
        {
          "output_type": "stream",
          "name": "stdout",
          "text": [
            "Time taken for element-wise addition using Python lists: 0.1700434684753418 seconds\n"
          ]
        }
      ]
    },
    {
      "cell_type": "code",
      "source": [
        "import numpy as np\n",
        "import time\n",
        "\n",
        "array1 = np.arange(1000000)\n",
        "array2 = np.arange(1000000)\n",
        "\n",
        "start_time = time.time()\n",
        "result_array = array1 + array2\n",
        "end_time = time.time()\n",
        "\n",
        "print(\"Time taken for element-wise addition using NumPy arrays:\", end_time - start_time, \"seconds\")"
      ],
      "metadata": {
        "colab": {
          "base_uri": "https://localhost:8080/"
        },
        "id": "th-cA-s0hXB7",
        "outputId": "38e80116-0f55-498f-a5f4-3f0ae48b990d"
      },
      "execution_count": 8,
      "outputs": [
        {
          "output_type": "stream",
          "name": "stdout",
          "text": [
            "Time taken for element-wise addition using NumPy arrays: 0.0035309791564941406 seconds\n"
          ]
        }
      ]
    },
    {
      "cell_type": "code",
      "source": [
        "import time\n",
        "\n",
        "list1 = [i for i in range(1000000)]\n",
        "list2 = [i for i in range(1000000)]\n",
        "\n",
        "start_time = time.time()\n",
        "result_list = [list1[i] * list2[i] for i in range(1000000)]\n",
        "end_time = time.time()\n",
        "\n",
        "print(\"Time taken for element-wise multiplication using Python lists:\", end_time - start_time, \"seconds\")"
      ],
      "metadata": {
        "colab": {
          "base_uri": "https://localhost:8080/"
        },
        "id": "5N7T-vLshXEt",
        "outputId": "4ff41d28-41db-466e-feac-a20da1b9e2d2"
      },
      "execution_count": 7,
      "outputs": [
        {
          "output_type": "stream",
          "name": "stdout",
          "text": [
            "Time taken for element-wise multiplication using Python lists: 0.18771004676818848 seconds\n"
          ]
        }
      ]
    },
    {
      "cell_type": "code",
      "source": [
        "import numpy as np\n",
        "import time\n",
        "\n",
        "array1 = np.arange(1000000)\n",
        "array2 = np.arange(1000000)\n",
        "\n",
        "start_time = time.time()\n",
        "result_array = array1 * array2\n",
        "end_time = time.time()\n",
        "\n",
        "print(\"Time taken for element-wise multiplication using NumPy arrays:\", end_time - start_time, \"seconds\")\n"
      ],
      "metadata": {
        "colab": {
          "base_uri": "https://localhost:8080/"
        },
        "id": "X5M0hQlXhXHo",
        "outputId": "65cff524-659a-47d6-a069-0f9359b46c79"
      },
      "execution_count": 6,
      "outputs": [
        {
          "output_type": "stream",
          "name": "stdout",
          "text": [
            "Time taken for element-wise multiplication using NumPy arrays: 0.008066892623901367 seconds\n"
          ]
        }
      ]
    },
    {
      "cell_type": "code",
      "source": [
        "import time\n",
        "\n",
        "list1 = [i for i in range(1000000)]\n",
        "list2 = [i for i in range(1000000)]\n",
        "\n",
        "start_time = time.time()\n",
        "dot_product_list = sum(list1[i] * list2[i] for i in range(1000000))\n",
        "end_time = time.time()\n",
        "\n",
        "print(\"Dot product using Python lists:\", dot_product_list)\n",
        "print(\"Time taken using Python lists:\", end_time - start_time, \"seconds\")"
      ],
      "metadata": {
        "colab": {
          "base_uri": "https://localhost:8080/"
        },
        "id": "dwX0rJaMhXKN",
        "outputId": "fee01fac-ea0a-425a-fff5-1a573602abc2"
      },
      "execution_count": 5,
      "outputs": [
        {
          "output_type": "stream",
          "name": "stdout",
          "text": [
            "Dot product using Python lists: 333332833333500000\n",
            "Time taken using Python lists: 0.16738128662109375 seconds\n"
          ]
        }
      ]
    },
    {
      "cell_type": "code",
      "source": [
        "import time\n",
        "\n",
        "list1 = [i for i in range(1000000)]\n",
        "list2 = [i for i in range(1000000)]\n",
        "\n",
        "start_time = time.time()\n",
        "dot_product_list = sum(list1[i] * list2[i] for i in range(1000000))\n",
        "end_time = time.time()\n",
        "\n",
        "print(\"Dot product using Python lists:\", dot_product_list)\n",
        "print(\"Time taken using Python lists:\", end_time - start_time, \"seconds\")\n"
      ],
      "metadata": {
        "colab": {
          "base_uri": "https://localhost:8080/"
        },
        "id": "3ImgZRwqhXMg",
        "outputId": "ed76eb97-8b5a-4e83-9d8c-d6c0a116dacc"
      },
      "execution_count": 4,
      "outputs": [
        {
          "output_type": "stream",
          "name": "stdout",
          "text": [
            "Dot product using Python lists: 333332833333500000\n",
            "Time taken using Python lists: 0.14245271682739258 seconds\n"
          ]
        }
      ]
    },
    {
      "cell_type": "code",
      "source": [
        "import time\n",
        "\n",
        "matrix1 = [[i for i in range(1000)] for j in range(1000)]\n",
        "matrix2 = [[i for i in range(1000)] for j in range(1000)]\n",
        "\n",
        "start_time = time.time()\n",
        "result_matrix = [[sum(a * b for a, b in zip(matrix1_row, matrix2_col)) for matrix2_col in zip(*matrix2)] for matrix1_row in matrix1]\n",
        "end_time = time.time()\n",
        "\n",
        "print(\"Time taken for matrix multiplication using Python lists:\", end_time - start_time, \"seconds\")"
      ],
      "metadata": {
        "colab": {
          "base_uri": "https://localhost:8080/"
        },
        "id": "A_3jrLQXhXO6",
        "outputId": "6965cbc1-2264-4904-ee35-da00182a7bb3"
      },
      "execution_count": 3,
      "outputs": [
        {
          "output_type": "stream",
          "name": "stdout",
          "text": [
            "Time taken for matrix multiplication using Python lists: 201.12630438804626 seconds\n"
          ]
        }
      ]
    },
    {
      "cell_type": "code",
      "source": [
        "import numpy as np\n",
        "import time\n",
        "\n",
        "array1 = np.arange(1000000).reshape(1000, 1000)\n",
        "array2 = np.arange(1000000).reshape(1000, 1000)\n",
        "\n",
        "start_time = time.time()\n",
        "result_array = np.dot(array1, array2)\n",
        "end_time = time.time()\n",
        "\n",
        "print(\"Time taken for matrix multiplication using NumPy arrays:\", end_time - start_time, \"seconds\")"
      ],
      "metadata": {
        "colab": {
          "base_uri": "https://localhost:8080/"
        },
        "id": "TthXL9TYhXTV",
        "outputId": "06ddd04a-29ed-4bc2-ad91-7732a51241f5"
      },
      "execution_count": 2,
      "outputs": [
        {
          "output_type": "stream",
          "name": "stdout",
          "text": [
            "Time taken for matrix multiplication using NumPy arrays: 1.4571044445037842 seconds\n"
          ]
        }
      ]
    }
  ]
}